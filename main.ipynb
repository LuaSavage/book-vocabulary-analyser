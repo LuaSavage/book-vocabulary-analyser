{
 "cells": [
  {
   "attachments": {},
   "cell_type": "markdown",
   "metadata": {},
   "source": [
    "# Book vocabulary analyser"
   ]
  },
  {
   "cell_type": "code",
   "execution_count": 291,
   "metadata": {},
   "outputs": [
    {
     "name": "stdout",
     "output_type": "stream",
     "text": [
      "Size of reference corpus 333333 words\n"
     ]
    }
   ],
   "source": [
    "import pandas as pd\n",
    "data_raw = pd.read_csv('dataset/unigram_freq.csv')\n",
    "print(f\"Size of reference corpus {len(data_raw)} words\")"
   ]
  },
  {
   "attachments": {},
   "cell_type": "markdown",
   "metadata": {},
   "source": [
    "### Non-normalised distribution of corpus frequencies"
   ]
  },
  {
   "cell_type": "code",
   "execution_count": 292,
   "metadata": {},
   "outputs": [
    {
     "name": "stdout",
     "output_type": "stream",
     "text": [
      "Size of filtered reference corpus 333181 words\n"
     ]
    },
    {
     "data": {
      "image/png": "[encoded data removed]",
      "text/plain": [
       "<Figure size 640x480 with 1 Axes>"
      ]
     },
     "metadata": {},
     "output_type": "display_data"
    }
   ],
   "source": [
    "from nltk.corpus import stopwords\n",
    "stop_words = set(stopwords.words('english'))\n",
    "\n",
    "data_filtered = pd.DataFrame(data_raw)\n",
    "data_filtered['word'].astype(str)\n",
    "data_filtered['word'].str.lower()\n",
    "data_filtered['word'] = data_filtered['word'].apply(lambda x: x if x not in stop_words else pd.NA)\n",
    "data_filtered = data_filtered.dropna().reset_index(drop=True)\n",
    "data_filtered.head()\n",
    "\n",
    "data_filtered[:int((1/10)*len(data_filtered))].plot(x=\"word\", y='count')\n",
    "\n",
    "print(f\"Size of filtered reference corpus {len(data_filtered)} words\")\n",
    "pass"
   ]
  },
  {
   "attachments": {},
   "cell_type": "markdown",
   "metadata": {},
   "source": [
    "Extracting book text  \n",
    "pdf:"
   ]
  },
  {
   "cell_type": "code",
   "execution_count": 371,
   "metadata": {},
   "outputs": [],
   "source": [
    "book_path = 'dataset/Blood_Sweat_and_Pixels.epub'"
   ]
  },
  {
   "cell_type": "code",
   "execution_count": null,
   "metadata": {},
   "outputs": [],
   "source": [
    "import pdfplumber\n",
    "pdf = pdfplumber.open(r''+book_path)\n",
    "book_text = ''\n",
    "for page in pdf.pages:\n",
    "    book_text+=page.extract_text()   "
   ]
  },
  {
   "attachments": {},
   "cell_type": "markdown",
   "metadata": {},
   "source": [
    "EPUB:"
   ]
  },
  {
   "cell_type": "code",
   "execution_count": 372,
   "metadata": {},
   "outputs": [
    {
     "data": {
      "text/plain": [
       "[(\"<p>Developing video games&#8212;hero's journey or fool's errand? The creative and technical logistics that go into building today's hottest games can be more harrowing and complex than the games themselves, often seeming like an endless maze or a bottomless abyss. In Blood, Sweat, and Pixels, Jason Schreier takes readers on a fascinating odyssey behind the scenes of video game development, where the creator may be a team of 600 overworked underdogs or a solitary geek genius. Exploring the artistic challenges, technical impossibilities, marketplace demands, and Donkey Kong-sized monkey wrenches thrown into the works by corporate, Blood, Sweat, and Pixels reveals how bringing any game to completion is more than Sisyphean&#8212;it's nothing short of miraculous.</p><p>Taking some of the most popular, bestselling recent games, Schreier immerses readers in the hellfire of the development process, whether it's RPG studio Bioware's challenge to beat an impossible schedule and overcome...\",\n",
       "  {})]"
      ]
     },
     "execution_count": 372,
     "metadata": {},
     "output_type": "execute_result"
    }
   ],
   "source": [
    "import ebooklib\n",
    "from ebooklib import epub\n",
    "book = epub.read_epub(book_path)\n",
    "\n",
    "book.get_metadata('DC', 'title')\n",
    "book.get_metadata('DC', 'creator')\n",
    "book.get_metadata('DC', 'description')\n",
    "#book.get_metadata('DC', 'language')"
   ]
  },
  {
   "cell_type": "code",
   "execution_count": 373,
   "metadata": {},
   "outputs": [
    {
     "data": {
      "text/plain": [
       "'cover title page dedication dedication for amanda contents cover title page dedication contents introduction reporting note 1  pillars of eternity 2  uncharted 4 3  stardew valley 4  diablo iii 5  halo wars 6  dragon age  inquisition 7  shovel knight 8  destiny 9  the witcher 3 10  star wars 1313 epilogue acknowledgments about the author praise for blood  sweat  and pixels copyright about the publisher introduction introduction say you want to make a video game  you ve got this killer idea it s '"
      ]
     },
     "execution_count": 373,
     "metadata": {},
     "output_type": "execute_result"
    }
   ],
   "source": [
    "# quick fix for python 3.10\n",
    "import collections.abc\n",
    "#hyper needs the four following aliases to be done manually.\n",
    "collections.Iterable = collections.abc.Iterable\n",
    "collections.Mapping = collections.abc.Mapping\n",
    "collections.MutableSet = collections.abc.MutableSet\n",
    "collections.MutableMapping = collections.abc.MutableMapping\n",
    "\n",
    "from epub2txt import epub2txt\n",
    "book_text = epub2txt(filepath = book_path)\n",
    "\n",
    "##removing inapropriate symbols \n",
    "book_text = book_text.strip()\n",
    "import re\n",
    "book_text = re.sub('\\n', ' ', book_text)\n",
    "book_text = re.sub(r'[^\\w\\s]', ' ', book_text)\n",
    "book_text = book_text.lower()\n",
    "book_text[:500]"
   ]
  },
  {
   "attachments": {},
   "cell_type": "markdown",
   "metadata": {},
   "source": [
    "processing book vocabulary"
   ]
  },
  {
   "cell_type": "code",
   "execution_count": 374,
   "metadata": {},
   "outputs": [
    {
     "name": "stdout",
     "output_type": "stream",
     "text": [
      "without stop words: 50604 words\n"
     ]
    }
   ],
   "source": [
    "from nltk.tokenize import word_tokenize\n",
    "tokenized = word_tokenize(book_text, language = \"english\")\n",
    "filtered = []\n",
    "\n",
    "# Use this to read file content as a stream:\n",
    "from nltk.corpus import stopwords\n",
    "stop_words = set(stopwords.words('english'))\n",
    "for r in tokenized:\n",
    "    if not r in stop_words:\n",
    "        filtered.append(r)\n",
    "\n",
    "print(f\"without stop words: {len(filtered)} words\")\n",
    "\n",
    "from nltk.stem import WordNetLemmatizer \n",
    "lemmatizer = WordNetLemmatizer()\n",
    "lemmatized = [lemmatizer.lemmatize(w) for w in filtered]\n"
   ]
  },
  {
   "cell_type": "code",
   "execution_count": 375,
   "metadata": {},
   "outputs": [
    {
     "name": "stdout",
     "output_type": "stream",
     "text": [
      "Total amount - 7015 unique word\n"
     ]
    }
   ],
   "source": [
    "import nltk\n",
    "import numpy as np\n",
    "from statistics import median\n",
    "from matplotlib import pyplot as plt\n",
    "\n",
    "nlp_words = nltk.FreqDist(lemmatized)\n",
    "print(f\"Total amount - {len(nlp_words)} unique word\")"
   ]
  },
  {
   "cell_type": "code",
   "execution_count": 382,
   "metadata": {},
   "outputs": [
    {
     "data": {
      "text/html": [
       "<div>\n",
       "<style scoped>\n",
       "    .dataframe tbody tr th:only-of-type {\n",
       "        vertical-align: middle;\n",
       "    }\n",
       "\n",
       "    .dataframe tbody tr th {\n",
       "        vertical-align: top;\n",
       "    }\n",
       "\n",
       "    .dataframe thead th {\n",
       "        text-align: right;\n",
       "    }\n",
       "</style>\n",
       "<table border=\"1\" class=\"dataframe\">\n",
       "  <thead>\n",
       "    <tr style=\"text-align: right;\">\n",
       "      <th></th>\n",
       "      <th>word</th>\n",
       "      <th>count</th>\n",
       "    </tr>\n",
       "  </thead>\n",
       "  <tbody>\n",
       "    <tr>\n",
       "      <th>0</th>\n",
       "      <td>game</td>\n",
       "      <td>1245</td>\n",
       "    </tr>\n",
       "    <tr>\n",
       "      <th>1</th>\n",
       "      <td>would</td>\n",
       "      <td>677</td>\n",
       "    </tr>\n",
       "    <tr>\n",
       "      <th>2</th>\n",
       "      <td>said</td>\n",
       "      <td>533</td>\n",
       "    </tr>\n",
       "    <tr>\n",
       "      <th>3</th>\n",
       "      <td>like</td>\n",
       "      <td>421</td>\n",
       "    </tr>\n",
       "    <tr>\n",
       "      <th>4</th>\n",
       "      <td>one</td>\n",
       "      <td>368</td>\n",
       "    </tr>\n",
       "    <tr>\n",
       "      <th>...</th>\n",
       "      <td>...</td>\n",
       "      <td>...</td>\n",
       "    </tr>\n",
       "    <tr>\n",
       "      <th>285</th>\n",
       "      <td>running</td>\n",
       "      <td>34</td>\n",
       "    </tr>\n",
       "    <tr>\n",
       "      <th>286</th>\n",
       "      <td>thanks</td>\n",
       "      <td>34</td>\n",
       "    </tr>\n",
       "    <tr>\n",
       "      <th>287</th>\n",
       "      <td>tell</td>\n",
       "      <td>34</td>\n",
       "    </tr>\n",
       "    <tr>\n",
       "      <th>288</th>\n",
       "      <td>tool</td>\n",
       "      <td>34</td>\n",
       "    </tr>\n",
       "    <tr>\n",
       "      <th>289</th>\n",
       "      <td>looking</td>\n",
       "      <td>34</td>\n",
       "    </tr>\n",
       "  </tbody>\n",
       "</table>\n",
       "<p>290 rows × 2 columns</p>\n",
       "</div>"
      ],
      "text/plain": [
       "        word  count\n",
       "0       game   1245\n",
       "1      would    677\n",
       "2       said    533\n",
       "3       like    421\n",
       "4        one    368\n",
       "..       ...    ...\n",
       "285  running     34\n",
       "286   thanks     34\n",
       "287     tell     34\n",
       "288     tool     34\n",
       "289  looking     34\n",
       "\n",
       "[290 rows x 2 columns]"
      ]
     },
     "execution_count": 382,
     "metadata": {},
     "output_type": "execute_result"
    }
   ],
   "source": [
    "wordlist_dict = dict(nlp_words)\n",
    "data_book = pd.DataFrame({'word': wordlist_dict.keys(),'count': wordlist_dict.values()})\n",
    "data_book = data_book.sort_values(by=['count'],ascending=False).reset_index(drop=True)\n",
    "\n",
    "book_word_freq_mean = data_book[\"count\"].mean()\n",
    "book_word_freq_std = data_book[\"count\"].std()\n",
    "\n",
    "most_popular_words = data_book[data_book[\"count\"] > book_word_freq_mean+book_word_freq_std]\n",
    "most_popular_words"
   ]
  },
  {
   "attachments": {},
   "cell_type": "markdown",
   "metadata": {},
   "source": [
    "Red dots are most frequent words in the book.  \n",
    "Blue line is frequency curve for every word in the book."
   ]
  },
  {
   "cell_type": "code",
   "execution_count": 383,
   "metadata": {},
   "outputs": [
    {
     "data": {
      "image/png": "[encoded data removed]",
      "text/plain": [
       "<Figure size 640x480 with 1 Axes>"
      ]
     },
     "metadata": {},
     "output_type": "display_data"
    }
   ],
   "source": [
    "fig = plt.figure()\n",
    "plt.plot(data_book.index, data_book['count'])\n",
    "plt.scatter(most_popular_words.index, most_popular_words['count'],  s=10, c='r')\n",
    "plt.show()"
   ]
  },
  {
   "cell_type": "code",
   "execution_count": 384,
   "metadata": {},
   "outputs": [],
   "source": [
    "tmp_df = pd.DataFrame(most_popular_words).assign(from_book=lambda x: True)\n",
    "tmp_df = tmp_df.drop(\"count\", axis = 1)\n",
    "\n",
    "data_compare = data_filtered.merge(tmp_df, on='word', how='left')"
   ]
  },
  {
   "attachments": {},
   "cell_type": "markdown",
   "metadata": {},
   "source": [
    "## Illustration of book's vocabulary ordinarity"
   ]
  },
  {
   "cell_type": "code",
   "execution_count": 395,
   "metadata": {},
   "outputs": [
    {
     "name": "stdout",
     "output_type": "stream",
     "text": [
      "Word loss 4.138%\n"
     ]
    }
   ],
   "source": [
    "highlighted = data_compare[data_compare['from_book']==True]\n",
    "\n",
    "# if word especially rare then it might be ommited in reference dataframe\n",
    "loss = 100*highlighted[\"word\"].count()/most_popular_words[\"word\"].count()\n",
    "print(f\"Words loss {100-loss:0.3f}%\")"
   ]
  },
  {
   "cell_type": "code",
   "execution_count": 396,
   "metadata": {},
   "outputs": [
    {
     "data": {
      "image/png": "[encoded data removed]",
      "text/plain": [
       "<Figure size 640x480 with 1 Axes>"
      ]
     },
     "metadata": {},
     "output_type": "display_data"
    }
   ],
   "source": [
    "from matplotlib import pyplot as plt\n",
    "fig = plt.figure()\n",
    "plt.plot(data_compare.index, data_compare['count'])\n",
    "plt.scatter(highlighted.index, highlighted['count'],  s=10, c='r')\n",
    "plt.show()"
   ]
  },
  {
   "cell_type": "code",
   "execution_count": 397,
   "metadata": {},
   "outputs": [
    {
     "name": "stdout",
     "output_type": "stream",
     "text": [
      "110041235.0\n",
      "177010092.803792\n",
      "160283466.64028776\n"
     ]
    },
    {
     "data": {
      "text/plain": [
       "7.0936742558410355"
      ]
     },
     "execution_count": 397,
     "metadata": {},
     "output_type": "execute_result"
    }
   ],
   "source": [
    "med = highlighted[\"count\"].median()\n",
    "print(med)\n",
    "std = highlighted[\"count\"].std()\n",
    "print(std)\n",
    "mean = highlighted[\"count\"].mean()\n",
    "print(mean)\n",
    "100*med/data_filtered[\"count\"].max()\n"
   ]
  },
  {
   "cell_type": "markdown",
   "metadata": {},
   "source": []
  }
 ],
 "metadata": {
  "kernelspec": {
   "display_name": "Python 3",
   "language": "python",
   "name": "python3"
  },
  "language_info": {
   "codemirror_mode": {
    "name": "ipython",
    "version": 3
   },
   "file_extension": ".py",
   "mimetype": "text/x-python",
   "name": "python",
   "nbconvert_exporter": "python",
   "pygments_lexer": "ipython3",
   "version": "3.10.6"
  },
  "orig_nbformat": 4,
  "vscode": {
   "interpreter": {
    "hash": "916dbcbb3f70747c44a77c7bcd40155683ae19c65e1c03b4aa3499c5328201f1"
   }
  }
 },
 "nbformat": 4,
 "nbformat_minor": 2
}
